{
 "cells": [
  {
   "cell_type": "code",
   "execution_count": 31,
   "metadata": {},
   "outputs": [],
   "source": [
    "import numpy as np\n",
    "import scipy as sp\n",
    "from scipy import special as sp\n",
    "import matplotlib.pyplot as plt"
   ]
  },
  {
   "cell_type": "markdown",
   "metadata": {},
   "source": [
    "# Gaussian processes\n",
    "\n",
    "Mainly the ideas expressed in the tutorial: https://www.youtube.com/watch?v=4vGiHC35j9s&t=422s"
   ]
  },
  {
   "cell_type": "markdown",
   "metadata": {},
   "source": [
    "Gaussian processes can be used for a variety of things. This Notebook will provide an overview of Gaussian Processes. We start with the basics of Gaussian functions. Gaussian processes are defined by covarieneces. Some important definitions follow:\n",
    "\n",
    "1. The covariance\n",
    "\n",
    "\\begin{align}\n",
    "cov( \\mathbf x, \\mathbf y) = \\sum_i { (x_i - \\mu_x)(y_i - \\mu_y) } = \\mathbb E ( \\mathbf x \\mathbf y )\n",
    "\\end{align}\n",
    "\n",
    "2. The coorrelation coefficient\n",
    "\n",
    "\\begin{align}\n",
    "\\rho( \\mathbf x, \\mathbf y) = \\frac { cov( \\mathbf x, \\mathbf y ) } { \\sqrt{ cov( \\mathbf x, \\mathbf x ) cov( \\mathbf y, \\mathbf y ) }}\n",
    "\\end{align}\n"
   ]
  },
  {
   "cell_type": "markdown",
   "metadata": {},
   "source": [
    "3. The dot product represents similarity between vectors: $\\mathbf x \\cdot \\mathbf y$ = `x @ y.T`\n",
    "\n",
    "4. $\\mathcal N ( 0, 1 ) $ Gaussians are very useful because they can be shifted and scaled to any place.\n",
    "\n",
    "5. Gaussian vectors can be sampled from Gaussians:\n",
    "\n",
    "\\begin{align}\n",
    "\\begin{bmatrix}\n",
    "x_1 \\\\\n",
    "x_2\n",
    "\\end{bmatrix} &=\n",
    "\\mathcal N \\Big({\n",
    "\\begin{bmatrix}\n",
    "0 \\\\ \n",
    "0\n",
    "\\end{bmatrix},\n",
    "\\begin{bmatrix}\n",
    "1                   & \\mathbb E (x_1x_2) \\\\ \n",
    "\\mathbb E (x_2x_1)  & 1\n",
    "\\end{bmatrix}}\\big)                                \\\\\n",
    "&= \\mathcal N \\Big({\n",
    "\\begin{bmatrix}\n",
    "0 \\\\ \n",
    "0\n",
    "\\end{bmatrix},\n",
    "\\mathbf \\Sigma\n",
    "}\\big) \n",
    "\\end{align}\n"
   ]
  },
  {
   "cell_type": "markdown",
   "metadata": {},
   "source": [
    "Thus evevrything about Gaussian processes revolves around the covariance matrix $\\mathbf \\Sigma$"
   ]
  },
  {
   "cell_type": "markdown",
   "metadata": {},
   "source": [
    "## Samppling form a distribution\n",
    "\n",
    "Sampling can be performed by sampling from a uniform distribution, and then projecting it throough the CDF of the Gaussian function in the reverse order. This can be later shifted and scaled as necessary with $\\sigma$ and $\\mu$"
   ]
  },
  {
   "cell_type": "code",
   "execution_count": 43,
   "metadata": {},
   "outputs": [
    {
     "data": {
      "image/png": "[encoded data removed]",
      "text/plain": [
       "<Figure size 1080x360 with 3 Axes>"
      ]
     },
     "metadata": {
      "needs_background": "light"
     },
     "output_type": "display_data"
    }
   ],
   "source": [
    "dist = sp.erfinv((np.random.rand(100000)-0.5)*2)\n",
    "\n",
    "plt.figure(figsize=(15,5))\n",
    "plt.subplot(131)\n",
    "_ = plt.hist(dist, bins=100)\n",
    "plt.subplot(132)\n",
    "_ = plt.hist(dist+5, bins=100)\n",
    "plt.subplot(133)\n",
    "_ = plt.hist(dist*2 + 5, bins=100)\n",
    "plt.show()\n",
    "plt.close()"
   ]
  },
  {
   "cell_type": "code",
   "execution_count": null,
   "metadata": {},
   "outputs": [],
   "source": []
  }
 ],
 "metadata": {
  "kernelspec": {
   "display_name": "Python 3",
   "language": "python",
   "name": "python3"
  },
  "language_info": {
   "codemirror_mode": {
    "name": "ipython",
    "version": 3
   },
   "file_extension": ".py",
   "mimetype": "text/x-python",
   "name": "python",
   "nbconvert_exporter": "python",
   "pygments_lexer": "ipython3",
   "version": "3.6.8"
  }
 },
 "nbformat": 4,
 "nbformat_minor": 2
}
