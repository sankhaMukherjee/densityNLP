{
 "cells": [
  {
   "cell_type": "code",
   "execution_count": 1,
   "metadata": {},
   "outputs": [
    {
     "name": "stdout",
     "output_type": "stream",
     "text": [
      "/home/sankha/Documents/programs/ML/densityNN/src\n"
     ]
    }
   ],
   "source": [
    "cd ../src"
   ]
  },
  {
   "cell_type": "markdown",
   "metadata": {},
   "source": [
    "Most of the section here is obtained from this website: http://abdulfatir.com/Normalizing-Flows-Part-1/"
   ]
  },
  {
   "cell_type": "markdown",
   "metadata": {},
   "source": [
    "Given a mapping $f: R^d \\Rightarrow R^d$ such that $\\mathbf{y} = f(\\mathbf{z})$, the PDF of $\\mathbf{y} = q_1(\\mathbf{y})$ may be obtained from the pdf of $\\mathbf{z} = q_0(\\mathbf{z})$ as:\n",
    "\n",
    "\\begin{align}\n",
    "q_1(\\mathbf{y}) &= q_0(\\mathbf{z}) \\Big| \\det \\frac { \\partial f ^ {-1} } {\\partial \\mathbf{y}}  \\Big|  \\\\\n",
    "                &= q_0(\\mathbf{z}) \\Big| \\det \\frac { \\partial f  } {\\partial \\mathbf{y}}  \\Big| ^ {-1} \\\\\n",
    "\\end{align}"
   ]
  },
  {
   "cell_type": "markdown",
   "metadata": {},
   "source": [
    "I should work out the equations at another time."
   ]
  },
  {
   "cell_type": "markdown",
   "metadata": {},
   "source": [
    "# Planar Flow\n",
    "\n",
    "The planar flow results from the equation:\n",
    "\n",
    "$$f(\\mathbf{z}) = \\mathbf{z} + \\mathbf{u}h( \\mathbf{w}^T\\mathbf{z} + b ) $$\n",
    "\n",
    "where $\\mathbf{u}, \\mathbf{w} \\in R^n, b \\in R$, and $h$ is a nonlinear function such as `tanh`. \n",
    "\n",
    "The Jacobian is given by:\n",
    "\n",
    "$$ \\frac { \\partial f(\\mathbf{z}) } { \\partial \\mathbf{z} } = \\mathbf{I} + \\mathbf{u}h'( \\mathbf{w}^T\\mathbf{z} + b )\\mathbf{w}^T  $$\n",
    "\n",
    "Using the matrix determinant Lemma,\n",
    "\n",
    "$$ \\det \\frac { \\partial f(\\mathbf{z}) } { \\partial \\mathbf{z} } = 1 + \\mathbf{u}h'( \\mathbf{w}^T\\mathbf{z} + b )\\mathbf{w}^T\\mathbf{u}  $$\n",
    "\n"
   ]
  },
  {
   "cell_type": "markdown",
   "metadata": {},
   "source": [
    "We shall solve the following specific equation:\n",
    "\n",
    "\\begin{align}\n",
    "q_0(\\mathbf{z}) &= N(\\mathbf{z} | \\mathbf{0}, \\mathbf{I} )   \\\\\n",
    "\\mathbf{w}     &= [5, 0]^T                                    \\\\\n",
    "\\mathbf{u}     &= [1, 0]^T                                    \\\\\n",
    "b              &= 0                                          \\\\\n",
    "h(\\mathbf{x})  &= \\tanh( \\mathbf{x} )                   \n",
    "\\end{align}"
   ]
  },
  {
   "cell_type": "code",
   "execution_count": 2,
   "metadata": {},
   "outputs": [],
   "source": [
    "import numpy as np\n",
    "import matplotlib.pyplot as plt"
   ]
  },
  {
   "cell_type": "code",
   "execution_count": 28,
   "metadata": {},
   "outputs": [],
   "source": [
    "x, y = np.linspace(-5, 5, 11), np.linspace(-5, 5, 11)\n",
    "X, Y = np.meshgrid( x, y )\n",
    "z = np.vstack((X.flatten(), Y.flatten()))\n",
    "z.shape\n",
    "\n",
    "u = np.array([5, 0]).reshape((-1, 1))\n",
    "w = np.array([1, 0]).reshape((-1, 1))\n",
    "b = 0\n",
    "\n",
    "f = z + u @ np.tanh( w.T @ z + b )\n"
   ]
  },
  {
   "cell_type": "code",
   "execution_count": 27,
   "metadata": {},
   "outputs": [
    {
     "data": {
      "text/plain": [
       "[<matplotlib.lines.Line2D at 0x7ff188a9b6d8>]"
      ]
     },
     "execution_count": 27,
     "metadata": {},
     "output_type": "execute_result"
    },
    {
     "data": {
      "image/png": "[encoded data removed]",
      "text/plain": [
       "<Figure size 432x288 with 1 Axes>"
      ]
     },
     "metadata": {
      "needs_background": "light"
     },
     "output_type": "display_data"
    }
   ],
   "source": [
    "plt.plot( z[0], z[1], '.' )\n"
   ]
  },
  {
   "cell_type": "code",
   "execution_count": 25,
   "metadata": {},
   "outputs": [
    {
     "data": {
      "text/plain": [
       "[<matplotlib.lines.Line2D at 0x7ff188b62518>]"
      ]
     },
     "execution_count": 25,
     "metadata": {},
     "output_type": "execute_result"
    },
    {
     "data": {
      "image/png": "[encoded data removed]",
      "text/plain": [
       "<Figure size 432x288 with 1 Axes>"
      ]
     },
     "metadata": {
      "needs_background": "light"
     },
     "output_type": "display_data"
    }
   ],
   "source": [
    "plt.plot( f[0], f[1], '.' )"
   ]
  },
  {
   "cell_type": "code",
   "execution_count": null,
   "metadata": {},
   "outputs": [],
   "source": []
  }
 ],
 "metadata": {
  "kernelspec": {
   "display_name": "Python 3",
   "language": "python",
   "name": "python3"
  },
  "language_info": {
   "codemirror_mode": {
    "name": "ipython",
    "version": 3
   },
   "file_extension": ".py",
   "mimetype": "text/x-python",
   "name": "python",
   "nbconvert_exporter": "python",
   "pygments_lexer": "ipython3",
   "version": "3.6.8"
  }
 },
 "nbformat": 4,
 "nbformat_minor": 2
}
